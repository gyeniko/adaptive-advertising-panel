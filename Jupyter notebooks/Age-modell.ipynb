{
 "cells": [
  {
   "cell_type": "markdown",
   "id": "6965fd68",
   "metadata": {},
   "source": [
    "<h1>Age detection</h1>"
   ]
  },
  {
   "cell_type": "code",
   "execution_count": 1,
   "id": "f9d47ca2",
   "metadata": {},
   "outputs": [],
   "source": [
    "import cv2\n",
    "import os\n",
    "import pandas as pd\n",
    "import numpy as np\n",
    "import matplotlib.pyplot as plt\n",
    "import random\n",
    "import seaborn as sns"
   ]
  },
  {
   "cell_type": "markdown",
   "id": "99a4ab7c",
   "metadata": {},
   "source": [
    "<h2>UTKFace dataset</h2>"
   ]
  },
  {
   "cell_type": "markdown",
   "id": "e64939ec",
   "metadata": {},
   "source": [
    "The source of the dataset: https://www.kaggle.com/datasets/jangedoo/utkface-new"
   ]
  },
  {
   "cell_type": "code",
   "execution_count": 2,
   "id": "ec70eb63",
   "metadata": {},
   "outputs": [],
   "source": [
    "images=[]\n",
    "ages=[]\n",
    "agegroups=[]\n",
    "agesstr=[]\n",
    "genders=[]\n",
    "gendersstr=[]\n",
    "\n",
    "folder = \"C:/Users/gyory/Documents/Diplomamunka/Adathalmazok/UTKFace/UTKFace\"\n",
    "for filename in os.listdir(folder):\n",
    "    split =filename.split('_')\n",
    "    ages.append(int(split[0]))\n",
    "    if int(split[0]) < 12:\n",
    "        agesstr.append('gyerek')\n",
    "        agegroups.append('0')\n",
    "    elif int(split[0]) < 30:\n",
    "        agesstr.append('fiatal')\n",
    "        agegroups.append('1')\n",
    "    elif int(split[0]) < 60:\n",
    "        agesstr.append('középkorú')\n",
    "        agegroups.append('2')\n",
    "    else:\n",
    "        agesstr.append('idős')\n",
    "        agegroups.append('3')\n",
    "\n",
    "        \n",
    "    genders.append(int(split[1]))\n",
    "    if int(split[1]) == 0:\n",
    "        gendersstr.append('male')\n",
    "    else:\n",
    "        gendersstr.append('female')\n",
    "    images.append(filename)"
   ]
  },
  {
   "cell_type": "markdown",
   "id": "bfa784d1",
   "metadata": {},
   "source": [
    "    ages.append(int(split[0]))\n",
    "    if int(split[0]) < 10:\n",
    "        agesstr.append('0-9')\n",
    "    elif int(split[0]) < 18:\n",
    "        agesstr.append('10-18')\n",
    "    elif int(split[0]) < 30:\n",
    "        agesstr.append('19-29')\n",
    "    elif int(split[0]) < 50:\n",
    "        agesstr.append('30-49')\n",
    "    elif int(split[0]) < 65:\n",
    "        agesstr.append('50-64')\n",
    "    else:\n",
    "        agesstr.append('65+')"
   ]
  },
  {
   "cell_type": "code",
   "execution_count": 3,
   "id": "23e4963d",
   "metadata": {},
   "outputs": [
    {
     "data": {
      "text/html": [
       "<div>\n",
       "<style scoped>\n",
       "    .dataframe tbody tr th:only-of-type {\n",
       "        vertical-align: middle;\n",
       "    }\n",
       "\n",
       "    .dataframe tbody tr th {\n",
       "        vertical-align: top;\n",
       "    }\n",
       "\n",
       "    .dataframe thead th {\n",
       "        text-align: right;\n",
       "    }\n",
       "</style>\n",
       "<table border=\"1\" class=\"dataframe\">\n",
       "  <thead>\n",
       "    <tr style=\"text-align: right;\">\n",
       "      <th></th>\n",
       "      <th>Filename</th>\n",
       "      <th>Age</th>\n",
       "      <th>Age_groups</th>\n",
       "      <th>Ages_str</th>\n",
       "      <th>Gender</th>\n",
       "      <th>Gender_str</th>\n",
       "    </tr>\n",
       "  </thead>\n",
       "  <tbody>\n",
       "    <tr>\n",
       "      <th>0</th>\n",
       "      <td>100_0_0_20170112213500903.jpg.chip.jpg</td>\n",
       "      <td>100</td>\n",
       "      <td>3</td>\n",
       "      <td>idős</td>\n",
       "      <td>0</td>\n",
       "      <td>male</td>\n",
       "    </tr>\n",
       "    <tr>\n",
       "      <th>1</th>\n",
       "      <td>100_0_0_20170112215240346.jpg.chip.jpg</td>\n",
       "      <td>100</td>\n",
       "      <td>3</td>\n",
       "      <td>idős</td>\n",
       "      <td>0</td>\n",
       "      <td>male</td>\n",
       "    </tr>\n",
       "    <tr>\n",
       "      <th>2</th>\n",
       "      <td>100_1_0_20170110183726390.jpg.chip.jpg</td>\n",
       "      <td>100</td>\n",
       "      <td>3</td>\n",
       "      <td>idős</td>\n",
       "      <td>1</td>\n",
       "      <td>female</td>\n",
       "    </tr>\n",
       "    <tr>\n",
       "      <th>3</th>\n",
       "      <td>100_1_0_20170112213001988.jpg.chip.jpg</td>\n",
       "      <td>100</td>\n",
       "      <td>3</td>\n",
       "      <td>idős</td>\n",
       "      <td>1</td>\n",
       "      <td>female</td>\n",
       "    </tr>\n",
       "    <tr>\n",
       "      <th>4</th>\n",
       "      <td>100_1_0_20170112213303693.jpg.chip.jpg</td>\n",
       "      <td>100</td>\n",
       "      <td>3</td>\n",
       "      <td>idős</td>\n",
       "      <td>1</td>\n",
       "      <td>female</td>\n",
       "    </tr>\n",
       "    <tr>\n",
       "      <th>5</th>\n",
       "      <td>100_1_0_20170112215032192.jpg.chip.jpg</td>\n",
       "      <td>100</td>\n",
       "      <td>3</td>\n",
       "      <td>idős</td>\n",
       "      <td>1</td>\n",
       "      <td>female</td>\n",
       "    </tr>\n",
       "    <tr>\n",
       "      <th>6</th>\n",
       "      <td>100_1_0_20170117195420803.jpg.chip.jpg</td>\n",
       "      <td>100</td>\n",
       "      <td>3</td>\n",
       "      <td>idős</td>\n",
       "      <td>1</td>\n",
       "      <td>female</td>\n",
       "    </tr>\n",
       "    <tr>\n",
       "      <th>7</th>\n",
       "      <td>100_1_0_20170119212053665.jpg.chip.jpg</td>\n",
       "      <td>100</td>\n",
       "      <td>3</td>\n",
       "      <td>idős</td>\n",
       "      <td>1</td>\n",
       "      <td>female</td>\n",
       "    </tr>\n",
       "    <tr>\n",
       "      <th>8</th>\n",
       "      <td>100_1_2_20170105174847679.jpg.chip.jpg</td>\n",
       "      <td>100</td>\n",
       "      <td>3</td>\n",
       "      <td>idős</td>\n",
       "      <td>1</td>\n",
       "      <td>female</td>\n",
       "    </tr>\n",
       "    <tr>\n",
       "      <th>9</th>\n",
       "      <td>100_1_2_20170112213615815.jpg.chip.jpg</td>\n",
       "      <td>100</td>\n",
       "      <td>3</td>\n",
       "      <td>idős</td>\n",
       "      <td>1</td>\n",
       "      <td>female</td>\n",
       "    </tr>\n",
       "    <tr>\n",
       "      <th>10</th>\n",
       "      <td>100_1_2_20170112222336458.jpg.chip.jpg</td>\n",
       "      <td>100</td>\n",
       "      <td>3</td>\n",
       "      <td>idős</td>\n",
       "      <td>1</td>\n",
       "      <td>female</td>\n",
       "    </tr>\n",
       "    <tr>\n",
       "      <th>11</th>\n",
       "      <td>101_0_0_20170112213500903.jpg.chip.jpg</td>\n",
       "      <td>101</td>\n",
       "      <td>3</td>\n",
       "      <td>idős</td>\n",
       "      <td>0</td>\n",
       "      <td>male</td>\n",
       "    </tr>\n",
       "    <tr>\n",
       "      <th>12</th>\n",
       "      <td>101_1_2_20170105174739309.jpg.chip.jpg</td>\n",
       "      <td>101</td>\n",
       "      <td>3</td>\n",
       "      <td>idős</td>\n",
       "      <td>1</td>\n",
       "      <td>female</td>\n",
       "    </tr>\n",
       "    <tr>\n",
       "      <th>13</th>\n",
       "      <td>103_0_2_20170112213001988.jpg.chip.jpg</td>\n",
       "      <td>103</td>\n",
       "      <td>3</td>\n",
       "      <td>idős</td>\n",
       "      <td>0</td>\n",
       "      <td>male</td>\n",
       "    </tr>\n",
       "    <tr>\n",
       "      <th>14</th>\n",
       "      <td>105_0_0_20170112213001988.jpg.chip.jpg</td>\n",
       "      <td>105</td>\n",
       "      <td>3</td>\n",
       "      <td>idős</td>\n",
       "      <td>0</td>\n",
       "      <td>male</td>\n",
       "    </tr>\n",
       "    <tr>\n",
       "      <th>15</th>\n",
       "      <td>105_1_0_20170112213001988.jpg.chip.jpg</td>\n",
       "      <td>105</td>\n",
       "      <td>3</td>\n",
       "      <td>idős</td>\n",
       "      <td>1</td>\n",
       "      <td>female</td>\n",
       "    </tr>\n",
       "    <tr>\n",
       "      <th>16</th>\n",
       "      <td>105_1_0_20170112213021902.jpg.chip.jpg</td>\n",
       "      <td>105</td>\n",
       "      <td>3</td>\n",
       "      <td>idős</td>\n",
       "      <td>1</td>\n",
       "      <td>female</td>\n",
       "    </tr>\n",
       "    <tr>\n",
       "      <th>17</th>\n",
       "      <td>105_1_0_20170112213507183.jpg.chip.jpg</td>\n",
       "      <td>105</td>\n",
       "      <td>3</td>\n",
       "      <td>idős</td>\n",
       "      <td>1</td>\n",
       "      <td>female</td>\n",
       "    </tr>\n",
       "    <tr>\n",
       "      <th>18</th>\n",
       "      <td>105_1_1_20170112213303693.jpg.chip.jpg</td>\n",
       "      <td>105</td>\n",
       "      <td>3</td>\n",
       "      <td>idős</td>\n",
       "      <td>1</td>\n",
       "      <td>female</td>\n",
       "    </tr>\n",
       "    <tr>\n",
       "      <th>19</th>\n",
       "      <td>10_0_0_20161220222308131.jpg.chip.jpg</td>\n",
       "      <td>10</td>\n",
       "      <td>0</td>\n",
       "      <td>gyerek</td>\n",
       "      <td>0</td>\n",
       "      <td>male</td>\n",
       "    </tr>\n",
       "  </tbody>\n",
       "</table>\n",
       "</div>"
      ],
      "text/plain": [
       "                                  Filename  Age Age_groups Ages_str  Gender  \\\n",
       "0   100_0_0_20170112213500903.jpg.chip.jpg  100          3     idős       0   \n",
       "1   100_0_0_20170112215240346.jpg.chip.jpg  100          3     idős       0   \n",
       "2   100_1_0_20170110183726390.jpg.chip.jpg  100          3     idős       1   \n",
       "3   100_1_0_20170112213001988.jpg.chip.jpg  100          3     idős       1   \n",
       "4   100_1_0_20170112213303693.jpg.chip.jpg  100          3     idős       1   \n",
       "5   100_1_0_20170112215032192.jpg.chip.jpg  100          3     idős       1   \n",
       "6   100_1_0_20170117195420803.jpg.chip.jpg  100          3     idős       1   \n",
       "7   100_1_0_20170119212053665.jpg.chip.jpg  100          3     idős       1   \n",
       "8   100_1_2_20170105174847679.jpg.chip.jpg  100          3     idős       1   \n",
       "9   100_1_2_20170112213615815.jpg.chip.jpg  100          3     idős       1   \n",
       "10  100_1_2_20170112222336458.jpg.chip.jpg  100          3     idős       1   \n",
       "11  101_0_0_20170112213500903.jpg.chip.jpg  101          3     idős       0   \n",
       "12  101_1_2_20170105174739309.jpg.chip.jpg  101          3     idős       1   \n",
       "13  103_0_2_20170112213001988.jpg.chip.jpg  103          3     idős       0   \n",
       "14  105_0_0_20170112213001988.jpg.chip.jpg  105          3     idős       0   \n",
       "15  105_1_0_20170112213001988.jpg.chip.jpg  105          3     idős       1   \n",
       "16  105_1_0_20170112213021902.jpg.chip.jpg  105          3     idős       1   \n",
       "17  105_1_0_20170112213507183.jpg.chip.jpg  105          3     idős       1   \n",
       "18  105_1_1_20170112213303693.jpg.chip.jpg  105          3     idős       1   \n",
       "19   10_0_0_20161220222308131.jpg.chip.jpg   10          0   gyerek       0   \n",
       "\n",
       "   Gender_str  \n",
       "0        male  \n",
       "1        male  \n",
       "2      female  \n",
       "3      female  \n",
       "4      female  \n",
       "5      female  \n",
       "6      female  \n",
       "7      female  \n",
       "8      female  \n",
       "9      female  \n",
       "10     female  \n",
       "11       male  \n",
       "12     female  \n",
       "13       male  \n",
       "14       male  \n",
       "15     female  \n",
       "16     female  \n",
       "17     female  \n",
       "18     female  \n",
       "19       male  "
      ]
     },
     "execution_count": 3,
     "metadata": {},
     "output_type": "execute_result"
    }
   ],
   "source": [
    "images=pd.Series(images,name='Filename')\n",
    "ages=pd.Series(ages,name='Age')\n",
    "agegroups=pd.Series(agegroups,name='Age_groups')\n",
    "agesstr=pd.Series(agesstr,name='Ages_str')\n",
    "genders=pd.Series(genders,name='Gender')\n",
    "gendersstr=pd.Series(gendersstr,name='Gender_str')\n",
    "df=pd.concat([images,ages,agegroups,agesstr,genders,gendersstr],axis=1)\n",
    "df.head(20)"
   ]
  },
  {
   "cell_type": "code",
   "execution_count": 4,
   "id": "c81426f8",
   "metadata": {},
   "outputs": [
    {
     "data": {
      "text/plain": [
       "Text(0.5, 1.0, 'Kor szerinti eloszlás kategóriánként')"
      ]
     },
     "execution_count": 4,
     "metadata": {},
     "output_type": "execute_result"
    },
    {
     "data": {
      "image/png": "[encoded data removed]",
      "text/plain": [
       "<Figure size 1000x300 with 1 Axes>"
      ]
     },
     "metadata": {},
     "output_type": "display_data"
    }
   ],
   "source": [
    "plt.figure(figsize=(10,3))\n",
    "\n",
    "\n",
    "bins = np.linspace(0, 120, 13)\n",
    "ax = sns.histplot(df['Ages_str'], bins=bins, color=\"green\");\n",
    "\n",
    "ax.set(xlabel=\" \", ylabel=\"Összesen\")\n",
    "plt.title(\"Kor szerinti eloszlás kategóriánként\")"
   ]
  },
  {
   "cell_type": "markdown",
   "id": "48ca985d",
   "metadata": {},
   "source": [
    "<h2>KOR</h2>"
   ]
  },
  {
   "cell_type": "code",
   "execution_count": 5,
   "id": "dcb9038a",
   "metadata": {},
   "outputs": [],
   "source": [
    "from sklearn.model_selection import train_test_split\n",
    "\n",
    "#validation\n",
    "\n",
    "images_data = df['Filename']\n",
    "labels_data = df['Age_groups'] \n",
    "train1_images, val_images, train1_labels, val_labels = train_test_split(images_data, labels_data, test_size=0.2, shuffle=True)\n",
    "#train_images, test_images, train_labels, test_labels = train_test_split(images, labels, test_size=0.4, shuffle=True)"
   ]
  },
  {
   "cell_type": "code",
   "execution_count": 6,
   "id": "0dbb2a2c",
   "metadata": {},
   "outputs": [
    {
     "data": {
      "text/html": [
       "<div>\n",
       "<style scoped>\n",
       "    .dataframe tbody tr th:only-of-type {\n",
       "        vertical-align: middle;\n",
       "    }\n",
       "\n",
       "    .dataframe tbody tr th {\n",
       "        vertical-align: top;\n",
       "    }\n",
       "\n",
       "    .dataframe thead th {\n",
       "        text-align: right;\n",
       "    }\n",
       "</style>\n",
       "<table border=\"1\" class=\"dataframe\">\n",
       "  <thead>\n",
       "    <tr style=\"text-align: right;\">\n",
       "      <th></th>\n",
       "      <th>filename</th>\n",
       "      <th>ages</th>\n",
       "    </tr>\n",
       "  </thead>\n",
       "  <tbody>\n",
       "    <tr>\n",
       "      <th>1232</th>\n",
       "      <td>18_0_0_20170117175618980.jpg.chip.jpg</td>\n",
       "      <td>1</td>\n",
       "    </tr>\n",
       "    <tr>\n",
       "      <th>20101</th>\n",
       "      <td>59_0_0_20170111203716454.jpg.chip.jpg</td>\n",
       "      <td>2</td>\n",
       "    </tr>\n",
       "    <tr>\n",
       "      <th>16206</th>\n",
       "      <td>42_1_0_20170117172734743.jpg.chip.jpg</td>\n",
       "      <td>2</td>\n",
       "    </tr>\n",
       "    <tr>\n",
       "      <th>19869</th>\n",
       "      <td>58_0_0_20170113210319462.jpg.chip.jpg</td>\n",
       "      <td>2</td>\n",
       "    </tr>\n",
       "    <tr>\n",
       "      <th>3557</th>\n",
       "      <td>22_1_2_20170104021310052.jpg.chip.jpg</td>\n",
       "      <td>1</td>\n",
       "    </tr>\n",
       "    <tr>\n",
       "      <th>...</th>\n",
       "      <td>...</td>\n",
       "      <td>...</td>\n",
       "    </tr>\n",
       "    <tr>\n",
       "      <th>7349</th>\n",
       "      <td>26_1_2_20170116175333732.jpg.chip.jpg</td>\n",
       "      <td>1</td>\n",
       "    </tr>\n",
       "    <tr>\n",
       "      <th>945</th>\n",
       "      <td>16_1_0_20170104013543170.jpg.chip.jpg</td>\n",
       "      <td>1</td>\n",
       "    </tr>\n",
       "    <tr>\n",
       "      <th>15439</th>\n",
       "      <td>40_0_0_20170117135733872.jpg.chip.jpg</td>\n",
       "      <td>2</td>\n",
       "    </tr>\n",
       "    <tr>\n",
       "      <th>13653</th>\n",
       "      <td>35_1_3_20170119163902152.jpg.chip.jpg</td>\n",
       "      <td>2</td>\n",
       "    </tr>\n",
       "    <tr>\n",
       "      <th>6308</th>\n",
       "      <td>26_0_2_20170116175940674.jpg.chip.jpg</td>\n",
       "      <td>1</td>\n",
       "    </tr>\n",
       "  </tbody>\n",
       "</table>\n",
       "<p>18966 rows × 2 columns</p>\n",
       "</div>"
      ],
      "text/plain": [
       "                                    filename ages\n",
       "1232   18_0_0_20170117175618980.jpg.chip.jpg    1\n",
       "20101  59_0_0_20170111203716454.jpg.chip.jpg    2\n",
       "16206  42_1_0_20170117172734743.jpg.chip.jpg    2\n",
       "19869  58_0_0_20170113210319462.jpg.chip.jpg    2\n",
       "3557   22_1_2_20170104021310052.jpg.chip.jpg    1\n",
       "...                                      ...  ...\n",
       "7349   26_1_2_20170116175333732.jpg.chip.jpg    1\n",
       "945    16_1_0_20170104013543170.jpg.chip.jpg    1\n",
       "15439  40_0_0_20170117135733872.jpg.chip.jpg    2\n",
       "13653  35_1_3_20170119163902152.jpg.chip.jpg    2\n",
       "6308   26_0_2_20170116175940674.jpg.chip.jpg    1\n",
       "\n",
       "[18966 rows x 2 columns]"
      ]
     },
     "execution_count": 6,
     "metadata": {},
     "output_type": "execute_result"
    }
   ],
   "source": [
    "d = {'filename':train1_images,'ages':train1_labels}\n",
    "train_1 = pd.concat(d,axis=1)\n",
    "train_1"
   ]
  },
  {
   "cell_type": "code",
   "execution_count": 7,
   "id": "2cf20392",
   "metadata": {},
   "outputs": [
    {
     "data": {
      "text/html": [
       "<div>\n",
       "<style scoped>\n",
       "    .dataframe tbody tr th:only-of-type {\n",
       "        vertical-align: middle;\n",
       "    }\n",
       "\n",
       "    .dataframe tbody tr th {\n",
       "        vertical-align: top;\n",
       "    }\n",
       "\n",
       "    .dataframe thead th {\n",
       "        text-align: right;\n",
       "    }\n",
       "</style>\n",
       "<table border=\"1\" class=\"dataframe\">\n",
       "  <thead>\n",
       "    <tr style=\"text-align: right;\">\n",
       "      <th></th>\n",
       "      <th>filename</th>\n",
       "      <th>ages</th>\n",
       "    </tr>\n",
       "  </thead>\n",
       "  <tbody>\n",
       "    <tr>\n",
       "      <th>10260</th>\n",
       "      <td>2_1_0_20161219154620268.jpg.chip.jpg</td>\n",
       "      <td>0</td>\n",
       "    </tr>\n",
       "    <tr>\n",
       "      <th>17969</th>\n",
       "      <td>50_0_0_20170120134018751.jpg.chip.jpg</td>\n",
       "      <td>2</td>\n",
       "    </tr>\n",
       "    <tr>\n",
       "      <th>7338</th>\n",
       "      <td>26_1_2_20170116163008149.jpg.chip.jpg</td>\n",
       "      <td>1</td>\n",
       "    </tr>\n",
       "    <tr>\n",
       "      <th>20293</th>\n",
       "      <td>5_1_2_20161219151834275.jpg.chip.jpg</td>\n",
       "      <td>0</td>\n",
       "    </tr>\n",
       "    <tr>\n",
       "      <th>19843</th>\n",
       "      <td>58_0_0_20170111195225616.jpg.chip.jpg</td>\n",
       "      <td>2</td>\n",
       "    </tr>\n",
       "    <tr>\n",
       "      <th>...</th>\n",
       "      <td>...</td>\n",
       "      <td>...</td>\n",
       "    </tr>\n",
       "    <tr>\n",
       "      <th>5869</th>\n",
       "      <td>26_0_0_20170117091532995.jpg.chip.jpg</td>\n",
       "      <td>1</td>\n",
       "    </tr>\n",
       "    <tr>\n",
       "      <th>14150</th>\n",
       "      <td>36_1_3_20170119202143325.jpg.chip.jpg</td>\n",
       "      <td>2</td>\n",
       "    </tr>\n",
       "    <tr>\n",
       "      <th>13248</th>\n",
       "      <td>35_0_3_20170117182941262.jpg.chip.jpg</td>\n",
       "      <td>2</td>\n",
       "    </tr>\n",
       "    <tr>\n",
       "      <th>11683</th>\n",
       "      <td>32_0_0_20170117173304428.jpg.chip.jpg</td>\n",
       "      <td>2</td>\n",
       "    </tr>\n",
       "    <tr>\n",
       "      <th>5632</th>\n",
       "      <td>25_1_3_20170117151955147.jpg.chip.jpg</td>\n",
       "      <td>1</td>\n",
       "    </tr>\n",
       "  </tbody>\n",
       "</table>\n",
       "<p>4742 rows × 2 columns</p>\n",
       "</div>"
      ],
      "text/plain": [
       "                                    filename ages\n",
       "10260   2_1_0_20161219154620268.jpg.chip.jpg    0\n",
       "17969  50_0_0_20170120134018751.jpg.chip.jpg    2\n",
       "7338   26_1_2_20170116163008149.jpg.chip.jpg    1\n",
       "20293   5_1_2_20161219151834275.jpg.chip.jpg    0\n",
       "19843  58_0_0_20170111195225616.jpg.chip.jpg    2\n",
       "...                                      ...  ...\n",
       "5869   26_0_0_20170117091532995.jpg.chip.jpg    1\n",
       "14150  36_1_3_20170119202143325.jpg.chip.jpg    2\n",
       "13248  35_0_3_20170117182941262.jpg.chip.jpg    2\n",
       "11683  32_0_0_20170117173304428.jpg.chip.jpg    2\n",
       "5632   25_1_3_20170117151955147.jpg.chip.jpg    1\n",
       "\n",
       "[4742 rows x 2 columns]"
      ]
     },
     "execution_count": 7,
     "metadata": {},
     "output_type": "execute_result"
    }
   ],
   "source": [
    "d = {'filename':val_images,'ages':val_labels}\n",
    "val = pd.concat(d,axis=1)\n",
    "val"
   ]
  },
  {
   "cell_type": "code",
   "execution_count": 8,
   "id": "02cb6856",
   "metadata": {},
   "outputs": [],
   "source": [
    "#train, test\n",
    "\n",
    "images2_data = train_1.filename\n",
    "labels2_data = train_1.ages #0 férfi, 1 nő\n",
    "train_images, test_images, train_labels, test_labels = train_test_split(images2_data, labels2_data, test_size=0.2, shuffle=True)"
   ]
  },
  {
   "cell_type": "code",
   "execution_count": 9,
   "id": "72d75deb",
   "metadata": {},
   "outputs": [
    {
     "data": {
      "text/html": [
       "<div>\n",
       "<style scoped>\n",
       "    .dataframe tbody tr th:only-of-type {\n",
       "        vertical-align: middle;\n",
       "    }\n",
       "\n",
       "    .dataframe tbody tr th {\n",
       "        vertical-align: top;\n",
       "    }\n",
       "\n",
       "    .dataframe thead th {\n",
       "        text-align: right;\n",
       "    }\n",
       "</style>\n",
       "<table border=\"1\" class=\"dataframe\">\n",
       "  <thead>\n",
       "    <tr style=\"text-align: right;\">\n",
       "      <th></th>\n",
       "      <th>filename</th>\n",
       "      <th>ages</th>\n",
       "    </tr>\n",
       "  </thead>\n",
       "  <tbody>\n",
       "    <tr>\n",
       "      <th>179</th>\n",
       "      <td>110_1_3_20170110155139762.jpg.chip.jpg</td>\n",
       "      <td>3</td>\n",
       "    </tr>\n",
       "    <tr>\n",
       "      <th>1932</th>\n",
       "      <td>1_0_2_20161219205717701.jpg.chip.jpg</td>\n",
       "      <td>0</td>\n",
       "    </tr>\n",
       "    <tr>\n",
       "      <th>11618</th>\n",
       "      <td>32_0_0_20170116180259328.jpg.chip.jpg</td>\n",
       "      <td>2</td>\n",
       "    </tr>\n",
       "    <tr>\n",
       "      <th>10071</th>\n",
       "      <td>2_0_0_20170110213208884.jpg.chip.jpg</td>\n",
       "      <td>0</td>\n",
       "    </tr>\n",
       "    <tr>\n",
       "      <th>8795</th>\n",
       "      <td>28_0_1_20170117020634195.jpg.chip.jpg</td>\n",
       "      <td>1</td>\n",
       "    </tr>\n",
       "    <tr>\n",
       "      <th>...</th>\n",
       "      <td>...</td>\n",
       "      <td>...</td>\n",
       "    </tr>\n",
       "    <tr>\n",
       "      <th>22087</th>\n",
       "      <td>73_0_0_20170111211426693.jpg.chip.jpg</td>\n",
       "      <td>3</td>\n",
       "    </tr>\n",
       "    <tr>\n",
       "      <th>5434</th>\n",
       "      <td>25_1_1_20170112205209506.jpg.chip.jpg</td>\n",
       "      <td>1</td>\n",
       "    </tr>\n",
       "    <tr>\n",
       "      <th>5598</th>\n",
       "      <td>25_1_3_20170104231514978.jpg.chip.jpg</td>\n",
       "      <td>1</td>\n",
       "    </tr>\n",
       "    <tr>\n",
       "      <th>22091</th>\n",
       "      <td>73_0_0_20170116221650300.jpg.chip.jpg</td>\n",
       "      <td>3</td>\n",
       "    </tr>\n",
       "    <tr>\n",
       "      <th>2111</th>\n",
       "      <td>1_0_3_20161220220116873.jpg.chip.jpg</td>\n",
       "      <td>0</td>\n",
       "    </tr>\n",
       "  </tbody>\n",
       "</table>\n",
       "<p>15172 rows × 2 columns</p>\n",
       "</div>"
      ],
      "text/plain": [
       "                                     filename ages\n",
       "179    110_1_3_20170110155139762.jpg.chip.jpg    3\n",
       "1932     1_0_2_20161219205717701.jpg.chip.jpg    0\n",
       "11618   32_0_0_20170116180259328.jpg.chip.jpg    2\n",
       "10071    2_0_0_20170110213208884.jpg.chip.jpg    0\n",
       "8795    28_0_1_20170117020634195.jpg.chip.jpg    1\n",
       "...                                       ...  ...\n",
       "22087   73_0_0_20170111211426693.jpg.chip.jpg    3\n",
       "5434    25_1_1_20170112205209506.jpg.chip.jpg    1\n",
       "5598    25_1_3_20170104231514978.jpg.chip.jpg    1\n",
       "22091   73_0_0_20170116221650300.jpg.chip.jpg    3\n",
       "2111     1_0_3_20161220220116873.jpg.chip.jpg    0\n",
       "\n",
       "[15172 rows x 2 columns]"
      ]
     },
     "execution_count": 9,
     "metadata": {},
     "output_type": "execute_result"
    }
   ],
   "source": [
    "d = {'filename':train_images,'ages':train_labels}\n",
    "train = pd.concat(d,axis=1)\n",
    "train"
   ]
  },
  {
   "cell_type": "code",
   "execution_count": 10,
   "id": "4cc21f3e",
   "metadata": {},
   "outputs": [
    {
     "data": {
      "text/html": [
       "<div>\n",
       "<style scoped>\n",
       "    .dataframe tbody tr th:only-of-type {\n",
       "        vertical-align: middle;\n",
       "    }\n",
       "\n",
       "    .dataframe tbody tr th {\n",
       "        vertical-align: top;\n",
       "    }\n",
       "\n",
       "    .dataframe thead th {\n",
       "        text-align: right;\n",
       "    }\n",
       "</style>\n",
       "<table border=\"1\" class=\"dataframe\">\n",
       "  <thead>\n",
       "    <tr style=\"text-align: right;\">\n",
       "      <th></th>\n",
       "      <th>filename</th>\n",
       "      <th>ages</th>\n",
       "    </tr>\n",
       "  </thead>\n",
       "  <tbody>\n",
       "    <tr>\n",
       "      <th>20819</th>\n",
       "      <td>62_0_0_20170111200703518.jpg.chip.jpg</td>\n",
       "      <td>3</td>\n",
       "    </tr>\n",
       "    <tr>\n",
       "      <th>9100</th>\n",
       "      <td>28_1_0_20170117122004211.jpg.chip.jpg</td>\n",
       "      <td>1</td>\n",
       "    </tr>\n",
       "    <tr>\n",
       "      <th>19917</th>\n",
       "      <td>58_0_0_20170120222805833.jpg.chip.jpg</td>\n",
       "      <td>2</td>\n",
       "    </tr>\n",
       "    <tr>\n",
       "      <th>9306</th>\n",
       "      <td>28_1_2_20170116165117020.jpg.chip.jpg</td>\n",
       "      <td>1</td>\n",
       "    </tr>\n",
       "    <tr>\n",
       "      <th>4617</th>\n",
       "      <td>24_1_1_20170116222611638.jpg.chip.jpg</td>\n",
       "      <td>1</td>\n",
       "    </tr>\n",
       "    <tr>\n",
       "      <th>...</th>\n",
       "      <td>...</td>\n",
       "      <td>...</td>\n",
       "    </tr>\n",
       "    <tr>\n",
       "      <th>15937</th>\n",
       "      <td>41_0_3_20170119175402515.jpg.chip.jpg</td>\n",
       "      <td>2</td>\n",
       "    </tr>\n",
       "    <tr>\n",
       "      <th>4599</th>\n",
       "      <td>24_1_1_20170115235617909.jpg.chip.jpg</td>\n",
       "      <td>1</td>\n",
       "    </tr>\n",
       "    <tr>\n",
       "      <th>17706</th>\n",
       "      <td>4_1_0_20170109191135825.jpg.chip.jpg</td>\n",
       "      <td>0</td>\n",
       "    </tr>\n",
       "    <tr>\n",
       "      <th>1108</th>\n",
       "      <td>17_0_3_20170104225734512.jpg.chip.jpg</td>\n",
       "      <td>1</td>\n",
       "    </tr>\n",
       "    <tr>\n",
       "      <th>20569</th>\n",
       "      <td>60_1_0_20170110143505801.jpg.chip.jpg</td>\n",
       "      <td>3</td>\n",
       "    </tr>\n",
       "  </tbody>\n",
       "</table>\n",
       "<p>3794 rows × 2 columns</p>\n",
       "</div>"
      ],
      "text/plain": [
       "                                    filename ages\n",
       "20819  62_0_0_20170111200703518.jpg.chip.jpg    3\n",
       "9100   28_1_0_20170117122004211.jpg.chip.jpg    1\n",
       "19917  58_0_0_20170120222805833.jpg.chip.jpg    2\n",
       "9306   28_1_2_20170116165117020.jpg.chip.jpg    1\n",
       "4617   24_1_1_20170116222611638.jpg.chip.jpg    1\n",
       "...                                      ...  ...\n",
       "15937  41_0_3_20170119175402515.jpg.chip.jpg    2\n",
       "4599   24_1_1_20170115235617909.jpg.chip.jpg    1\n",
       "17706   4_1_0_20170109191135825.jpg.chip.jpg    0\n",
       "1108   17_0_3_20170104225734512.jpg.chip.jpg    1\n",
       "20569  60_1_0_20170110143505801.jpg.chip.jpg    3\n",
       "\n",
       "[3794 rows x 2 columns]"
      ]
     },
     "execution_count": 10,
     "metadata": {},
     "output_type": "execute_result"
    }
   ],
   "source": [
    "d = {'filename':test_images,'ages':test_labels}\n",
    "test = pd.concat(d,axis=1)\n",
    "test"
   ]
  },
  {
   "cell_type": "code",
   "execution_count": 11,
   "id": "94d1bf6d",
   "metadata": {},
   "outputs": [],
   "source": [
    "from tensorflow.keras.preprocessing.image import ImageDataGenerator"
   ]
  },
  {
   "cell_type": "code",
   "execution_count": 12,
   "id": "5f0d17df",
   "metadata": {},
   "outputs": [],
   "source": [
    "batch = 32\n",
    "img_height = 200\n",
    "img_width = 200"
   ]
  },
  {
   "cell_type": "code",
   "execution_count": 13,
   "id": "20901bd9",
   "metadata": {},
   "outputs": [],
   "source": [
    "train_gen = ImageDataGenerator(#rotation_range=45,\n",
    "                               rescale=1./255#,\n",
    "                               #horizontal_flip=True\n",
    ")\n",
    "test_gen = ImageDataGenerator(rescale = 1./255)"
   ]
  },
  {
   "cell_type": "code",
   "execution_count": 14,
   "id": "11008fa0",
   "metadata": {},
   "outputs": [
    {
     "name": "stdout",
     "output_type": "stream",
     "text": [
      "Found 15172 validated image filenames belonging to 4 classes.\n"
     ]
    }
   ],
   "source": [
    "train_data = train_gen.flow_from_dataframe(dataframe = train, \n",
    "                                           directory = folder, \n",
    "                                           x_col = 'filename',\n",
    "                                           y_col = 'ages', seed = 42,\n",
    "                                           batch_size = batch,\n",
    "                                           shuffle = True, \n",
    "                                           class_mode=\"categorical\",\n",
    "                                           target_size = (img_height,img_width))"
   ]
  },
  {
   "cell_type": "code",
   "execution_count": 15,
   "id": "19645f68",
   "metadata": {},
   "outputs": [
    {
     "name": "stdout",
     "output_type": "stream",
     "text": [
      "Found 3794 validated image filenames belonging to 4 classes.\n"
     ]
    }
   ],
   "source": [
    "test_data = test_gen.flow_from_dataframe(dataframe = test, \n",
    "                                           directory = folder, \n",
    "                                           x_col = 'filename',\n",
    "                                           y_col = 'ages', seed = 42,\n",
    "                                           batch_size = batch,\n",
    "                                           shuffle = True, \n",
    "                                           class_mode=\"categorical\",\n",
    "                                           target_size = (img_height,img_width))"
   ]
  },
  {
   "cell_type": "code",
   "execution_count": 16,
   "id": "98de52a6",
   "metadata": {},
   "outputs": [
    {
     "name": "stdout",
     "output_type": "stream",
     "text": [
      "Found 4742 validated image filenames belonging to 4 classes.\n"
     ]
    }
   ],
   "source": [
    "val_data = train_gen.flow_from_dataframe(dataframe = val, \n",
    "                                           directory = folder, \n",
    "                                           x_col = 'filename',\n",
    "                                           y_col = 'ages', seed = 42,\n",
    "                                           batch_size = batch,\n",
    "                                           shuffle = True, \n",
    "                                           class_mode=\"categorical\",\n",
    "                                           target_size = (img_height,img_width))"
   ]
  },
  {
   "cell_type": "code",
   "execution_count": 17,
   "id": "e2d6ba02",
   "metadata": {},
   "outputs": [],
   "source": [
    "from keras import models\n",
    "import tensorflow as tf\n",
    "from tensorflow.keras import layers"
   ]
  },
  {
   "cell_type": "code",
   "execution_count": 18,
   "id": "c306f972",
   "metadata": {},
   "outputs": [],
   "source": [
    "network_ages1 = models.Sequential()\n",
    "#network.add(layers.experimental.preprocessing.Rescaling(1./255))\n",
    "network_ages1.add(layers.Conv2D(36, kernel_size=3, activation='relu', input_shape=(200, 200, 3)))\n",
    "network_ages1.add(layers.AvgPool2D(pool_size=3, strides=2))\n",
    "network_ages1.add(layers.Conv2D(64, kernel_size=3, activation='relu'))\n",
    "network_ages1.add(layers.AvgPool2D(pool_size=3, strides=2))\n",
    "network_ages1.add(layers.Conv2D(128, kernel_size=3, activation='relu'))\n",
    "network_ages1.add(layers.AvgPool2D(pool_size=3, strides=2))\n",
    "network_ages1.add(layers.Conv2D(256, kernel_size=3, activation='relu'))\n",
    "network_ages1.add(layers.AvgPool2D(pool_size=3, strides=2))\n",
    "network_ages1.add(layers.Flatten())\n",
    "network_ages1.add(layers.Dropout(0.5))\n",
    "network_ages1.add(layers.Dense(128, activation='relu'))\n",
    "network_ages1.add(layers.Dense(4, activation='softmax'))"
   ]
  },
  {
   "cell_type": "code",
   "execution_count": 19,
   "id": "08bda283",
   "metadata": {},
   "outputs": [],
   "source": [
    "network_ages1.compile(\n",
    "    optimizer='adam',\n",
    "    loss='categorical_crossentropy',\n",
    "    metrics=['accuracy'])"
   ]
  },
  {
   "cell_type": "code",
   "execution_count": 20,
   "id": "f79bd409",
   "metadata": {},
   "outputs": [],
   "source": [
    "callback = tf.keras.callbacks.EarlyStopping(monitor='val_accuracy', patience=3)"
   ]
  },
  {
   "cell_type": "code",
   "execution_count": 21,
   "id": "417a1d30",
   "metadata": {},
   "outputs": [
    {
     "name": "stdout",
     "output_type": "stream",
     "text": [
      "Epoch 1/10\n",
      "475/475 [==============================] - 491s 1s/step - loss: 1.0445 - accuracy: 0.5263 - val_loss: 0.8561 - val_accuracy: 0.6063\n",
      "Epoch 2/10\n",
      "475/475 [==============================] - 505s 1s/step - loss: 0.8374 - accuracy: 0.6233 - val_loss: 0.7847 - val_accuracy: 0.6375\n",
      "Epoch 3/10\n",
      "475/475 [==============================] - 498s 1s/step - loss: 0.7866 - accuracy: 0.6488 - val_loss: 0.7895 - val_accuracy: 0.6464\n",
      "Epoch 4/10\n",
      "475/475 [==============================] - 502s 1s/step - loss: 0.7308 - accuracy: 0.6772 - val_loss: 0.6928 - val_accuracy: 0.6892\n",
      "Epoch 5/10\n",
      "475/475 [==============================] - 503s 1s/step - loss: 0.6949 - accuracy: 0.6929 - val_loss: 0.6969 - val_accuracy: 0.6953\n",
      "Epoch 6/10\n",
      "475/475 [==============================] - 501s 1s/step - loss: 0.6642 - accuracy: 0.7047 - val_loss: 0.6649 - val_accuracy: 0.7041\n",
      "Epoch 7/10\n",
      "475/475 [==============================] - 499s 1s/step - loss: 0.6415 - accuracy: 0.7141 - val_loss: 0.6394 - val_accuracy: 0.7128\n",
      "Epoch 8/10\n",
      "475/475 [==============================] - 499s 1s/step - loss: 0.6249 - accuracy: 0.7236 - val_loss: 0.6243 - val_accuracy: 0.7235\n",
      "Epoch 9/10\n",
      "475/475 [==============================] - 497s 1s/step - loss: 0.5982 - accuracy: 0.7365 - val_loss: 0.6446 - val_accuracy: 0.7199\n",
      "Epoch 10/10\n",
      "475/475 [==============================] - 493s 1s/step - loss: 0.5792 - accuracy: 0.7438 - val_loss: 0.6142 - val_accuracy: 0.7328\n"
     ]
    }
   ],
   "source": [
    "history_ages1 = network_ages1.fit(\n",
    "    train_data,\n",
    "    validation_data=val_data,\n",
    "    epochs= 10,\n",
    "    callbacks = callback,\n",
    "    shuffle=True\n",
    ")\n",
    "eff_epochs = len(history_ages1.history['loss'])"
   ]
  },
  {
   "cell_type": "code",
   "execution_count": 22,
   "id": "4646b484",
   "metadata": {},
   "outputs": [],
   "source": [
    "network_ages1.save('C:/Users/gyory/Documents/Diplomamunka/modells/network_ages14_v2.keras')"
   ]
  },
  {
   "cell_type": "code",
   "execution_count": 23,
   "id": "94ea9fec",
   "metadata": {},
   "outputs": [
    {
     "name": "stdout",
     "output_type": "stream",
     "text": [
      "Model: \"sequential\"\n",
      "_________________________________________________________________\n",
      " Layer (type)                Output Shape              Param #   \n",
      "=================================================================\n",
      " conv2d (Conv2D)             (None, 198, 198, 36)      1008      \n",
      "                                                                 \n",
      " average_pooling2d (AverageP  (None, 98, 98, 36)       0         \n",
      " ooling2D)                                                       \n",
      "                                                                 \n",
      " conv2d_1 (Conv2D)           (None, 96, 96, 64)        20800     \n",
      "                                                                 \n",
      " average_pooling2d_1 (Averag  (None, 47, 47, 64)       0         \n",
      " ePooling2D)                                                     \n",
      "                                                                 \n",
      " conv2d_2 (Conv2D)           (None, 45, 45, 128)       73856     \n",
      "                                                                 \n",
      " average_pooling2d_2 (Averag  (None, 22, 22, 128)      0         \n",
      " ePooling2D)                                                     \n",
      "                                                                 \n",
      " conv2d_3 (Conv2D)           (None, 20, 20, 256)       295168    \n",
      "                                                                 \n",
      " average_pooling2d_3 (Averag  (None, 9, 9, 256)        0         \n",
      " ePooling2D)                                                     \n",
      "                                                                 \n",
      " flatten (Flatten)           (None, 20736)             0         \n",
      "                                                                 \n",
      " dropout (Dropout)           (None, 20736)             0         \n",
      "                                                                 \n",
      " dense (Dense)               (None, 128)               2654336   \n",
      "                                                                 \n",
      " dense_1 (Dense)             (None, 4)                 516       \n",
      "                                                                 \n",
      "=================================================================\n",
      "Total params: 3,045,684\n",
      "Trainable params: 3,045,684\n",
      "Non-trainable params: 0\n",
      "_________________________________________________________________\n"
     ]
    }
   ],
   "source": [
    "network_ages1.summary()"
   ]
  },
  {
   "cell_type": "code",
   "execution_count": 24,
   "id": "6f0caf11",
   "metadata": {},
   "outputs": [
    {
     "name": "stdout",
     "output_type": "stream",
     "text": [
      "119/119 [==============================] - 29s 245ms/step - loss: 0.6074 - accuracy: 0.7225\n"
     ]
    }
   ],
   "source": [
    "test_loss, test_acc = network_ages1.evaluate(test_data)"
   ]
  },
  {
   "cell_type": "code",
   "execution_count": 25,
   "id": "bbfec2a7",
   "metadata": {},
   "outputs": [
    {
     "data": {
      "text/plain": [
       "<matplotlib.legend.Legend at 0x21c3d394070>"
      ]
     },
     "execution_count": 25,
     "metadata": {},
     "output_type": "execute_result"
    },
    {
     "data": {
      "image/png": "[encoded data removed]",
      "text/plain": [
       "<Figure size 1000x300 with 2 Axes>"
      ]
     },
     "metadata": {},
     "output_type": "display_data"
    }
   ],
   "source": [
    "plt.figure(figsize=[10,3])\n",
    "plt.subplot(121); \n",
    "\n",
    "loss = history_ages1.history['loss']\n",
    "val_loss = history_ages1.history['val_loss']\n",
    "epochs = range(1, len(loss)+1)\n",
    "plt.plot(epochs, loss, 'b', label='Training loss')\n",
    "plt.plot(epochs, val_loss, 'g', label='Validation loss')\n",
    "plt.title('Training and validation loss')\n",
    "plt.xlabel('Epochs')\n",
    "plt.ylabel('Loss')\n",
    "plt.legend()\n",
    "\n",
    "plt.subplot(122); \n",
    "\n",
    "acc = history_ages1.history['accuracy']\n",
    "val_acc = history_ages1.history['val_accuracy']\n",
    "epochs = range(1, len(loss)+1)\n",
    "plt.plot(epochs, acc, 'b', label='Training accuracy')\n",
    "plt.plot(epochs, val_acc, 'g', label='Validation accuracy' )\n",
    "plt.title('Training and validation accuracy')\n",
    "plt.xlabel('Epochs')\n",
    "plt.ylabel('Accuracy')\n",
    "plt.legend()"
   ]
  },
  {
   "cell_type": "code",
   "execution_count": null,
   "id": "fe658d62",
   "metadata": {},
   "outputs": [],
   "source": []
  },
  {
   "cell_type": "code",
   "execution_count": 26,
   "id": "365380bb",
   "metadata": {},
   "outputs": [],
   "source": [
    "from sklearn.metrics import classification_report"
   ]
  },
  {
   "cell_type": "code",
   "execution_count": 27,
   "id": "dbb420fc",
   "metadata": {},
   "outputs": [
    {
     "name": "stdout",
     "output_type": "stream",
     "text": [
      "119/119 [==============================] - 29s 242ms/step\n"
     ]
    }
   ],
   "source": [
    "test_pred = network_ages1.predict(test_data)"
   ]
  },
  {
   "cell_type": "code",
   "execution_count": 28,
   "id": "709eaf8b",
   "metadata": {},
   "outputs": [
    {
     "data": {
      "text/plain": [
       "array([2, 2, 3, ..., 2, 2, 2], dtype=int64)"
      ]
     },
     "execution_count": 28,
     "metadata": {},
     "output_type": "execute_result"
    }
   ],
   "source": [
    "test_pred_bool = np.argmax(test_pred, axis=1)\n",
    "test_pred_bool"
   ]
  },
  {
   "cell_type": "code",
   "execution_count": 29,
   "id": "00a7ae2d",
   "metadata": {},
   "outputs": [
    {
     "name": "stdout",
     "output_type": "stream",
     "text": [
      "              precision    recall  f1-score   support\n",
      "\n",
      "           0       0.16      0.15      0.15       513\n",
      "           1       0.37      0.36      0.37      1419\n",
      "           2       0.37      0.40      0.38      1445\n",
      "           3       0.10      0.08      0.09       417\n",
      "\n",
      "    accuracy                           0.32      3794\n",
      "   macro avg       0.25      0.25      0.25      3794\n",
      "weighted avg       0.31      0.32      0.31      3794\n",
      "\n"
     ]
    }
   ],
   "source": [
    "from sklearn.metrics import classification_report\n",
    "print(classification_report(test_data.classes,test_pred_bool,target_names=['0','1','2','3']))"
   ]
  },
  {
   "cell_type": "code",
   "execution_count": null,
   "id": "296dae99",
   "metadata": {},
   "outputs": [],
   "source": []
  }
 ],
 "metadata": {
  "kernelspec": {
   "display_name": "Python 3 (ipykernel)",
   "language": "python",
   "name": "python3"
  },
  "language_info": {
   "codemirror_mode": {
    "name": "ipython",
    "version": 3
   },
   "file_extension": ".py",
   "mimetype": "text/x-python",
   "name": "python",
   "nbconvert_exporter": "python",
   "pygments_lexer": "ipython3",
   "version": "3.9.13"
  }
 },
 "nbformat": 4,
 "nbformat_minor": 5
}
